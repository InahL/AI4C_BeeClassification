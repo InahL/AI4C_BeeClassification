{
 "cells": [
  {
   "cell_type": "code",
   "execution_count": null,
   "id": "d5e33a64-2c39-4a2e-8631-1503d639278a",
   "metadata": {},
   "outputs": [],
   "source": [
    "!git clone https://github.com/ultralytics/yolov5\n",
    "%cd yolov5\n",
    "!pip install -U -r requirements.txt"
   ]
  },
  {
   "cell_type": "code",
   "execution_count": null,
   "id": "57606c9c-349e-4b0b-8f9c-b8eae64314f6",
   "metadata": {
    "scrolled": true
   },
   "outputs": [],
   "source": [
    "!python3 -m pip uninstall yolov5"
   ]
  },
  {
   "cell_type": "code",
   "execution_count": null,
   "id": "9f1a605a-24da-4144-9fc0-dbb08f2eef25",
   "metadata": {},
   "outputs": [],
   "source": [
    "!y"
   ]
  },
  {
   "cell_type": "code",
   "execution_count": null,
   "id": "7b54ac30-72be-4746-9b0a-1ad29c18915f",
   "metadata": {
    "scrolled": true
   },
   "outputs": [],
   "source": [
    "import torch\n",
    "# Load the pre-trained YOLOv5 model (small)\n",
    "model = torch.hub.load('ultralytics/yolov5:v7.0', 'yolov5s',force_reload=True)  # YOLOv5 small model\n",
    "\n",
    "# Path to your data.yaml file\n",
    "data_yaml = '../data.yaml'\n",
    "\n",
    "# Train the model\n",
    "model.train(\n",
    "    data_yaml,      # Path to your data.yaml\n",
    "    imgsz=640,            # Image size (640x640)\n",
    "    batch_size=16,        # Batch size\n",
    "    epochs=50,            # Number of epochs\n",
    "    weights='yolov5s.pt', # Pre-trained weights (this will be automatically downloaded)\n",
    "    cache_images=True,    # Cache images for faster training\n",
    ")\n"
   ]
  },
  {
   "cell_type": "code",
   "execution_count": null,
   "id": "0c6c0244-10c8-4656-a6a2-54a55720b62d",
   "metadata": {},
   "outputs": [],
   "source": [
    "!python train.py --img 640 --batch 16 --epochs 50 --data /data.yaml --weights yolov5s.pt --cache\n"
   ]
  },
  {
   "cell_type": "code",
   "execution_count": null,
   "id": "afaec907-cc52-40d5-aa75-063797943e5a",
   "metadata": {},
   "outputs": [],
   "source": [
    "!pip install py"
   ]
  },
  {
   "cell_type": "code",
   "execution_count": null,
   "id": "4553be64-00a8-45ca-830a-fe1c306e6201",
   "metadata": {},
   "outputs": [],
   "source": [
    "!python3 -c \"import utils; print(utils.__file__)\""
   ]
  },
  {
   "cell_type": "code",
   "execution_count": null,
   "id": "e7124597-60b4-429b-b1b6-8eee068e8307",
   "metadata": {},
   "outputs": [],
   "source": [
    "import cv2\n",
    "import numpy as np\n",
    "\n",
    "def draw_bounding_box_with_keypoints(image_path, annotation_path, output_path=None):\n",
    "    # Load the image\n",
    "    image = cv2.imread(image_path)\n",
    "    if image is None:\n",
    "        print(\"Error: Unable to load the image.\")\n",
    "        return\n",
    "    \n",
    "    # Read the annotation file\n",
    "    with open(annotation_path, 'r') as file:\n",
    "        lines = file.readlines()\n",
    "    \n",
    "    for line in lines:\n",
    "        data = line.strip().split()  # Split annotation line by spaces\n",
    "        class_id = int(data[0])  # The first value is the class ID\n",
    "        x_center, y_center, width, height = map(float, data[1:5])  # Bounding box (normalized)\n",
    "        px1, py1, px2, py2 = map(float, data[5:9])  # Keypoints (normalized)\n",
    "        \n",
    "        # Convert normalized values to absolute pixel values\n",
    "        h, w = image.shape[:2]\n",
    "        x_center_abs = int(x_center * w)\n",
    "        y_center_abs = int(y_center * h)\n",
    "        width_abs = int(width * w)\n",
    "        height_abs = int(height * h)\n",
    "        \n",
    "        px1_abs = int(px1 * w)\n",
    "        py1_abs = int(py1 * h)\n",
    "        px2_abs = int(px2 * w)\n",
    "        py2_abs = int(py2 * h)\n",
    "        \n",
    "        # Calculate the top-left and bottom-right corners of the bounding box\n",
    "        x1 = x_center_abs - width_abs // 2\n",
    "        y1 = y_center_abs - height_abs // 2\n",
    "        x2 = x_center_abs + width_abs // 2\n",
    "        y2 = y_center_abs + height_abs // 2\n",
    "        \n",
    "        # Draw the bounding box\n",
    "        cv2.rectangle(image, (x1, y1), (x2, y2), color=(0, 255, 0), thickness=2)\n",
    "        \n",
    "        # Draw the keypoints\n",
    "        cv2.circle(image, (px1_abs, py1_abs), radius=5, color=(255, 0, 0), thickness=-1)  # Head (Blue)\n",
    "        cv2.circle(image, (px2_abs, py2_abs), radius=5, color=(0, 0, 255), thickness=-1)  # Tail (Red)\n",
    "        \n",
    "        # Optionally, annotate the class ID\n",
    "        cv2.putText(image, f\"Class: {class_id}\", (x1, y1 - 10),\n",
    "                    cv2.FONT_HERSHEY_SIMPLEX, 0.5, (0, 255, 0), 2)\n",
    "    \n",
    "    # Show the image\n",
    "    cv2.imshow('Annotated Image', image)\n",
    "    cv2.waitKey(0)\n",
    "    cv2.destroyAllWindows()\n",
    "    \n",
    "    # Save the image if output_path is provided\n",
    "    if output_path:\n",
    "        cv2.imwrite(output_path, image)\n",
    "        print(f\"Annotated image saved to {output_path}\")\n",
    "\n",
    "# Example usage\n",
    "image_path = \"images/20230609a48.jpg\"\n",
    "annotation_path = \"labels/20230609a48.txt\"\n",
    "output_path = \"output_annotated_image.jpg\"\n",
    "\n",
    "draw_bounding_box_with_keypoints(image_path, annotation_path, output_path)\n"
   ]
  },
  {
   "cell_type": "code",
   "execution_count": null,
   "id": "362a3ffb-8abe-488c-874f-79c38262c1f3",
   "metadata": {},
   "outputs": [],
   "source": [
    "!python3 yolov5/train.py --img 640 --batch 16 --epochs 50 --data data.yaml --weights yolov5s.pt --cache"
   ]
  },
  {
   "cell_type": "code",
   "execution_count": null,
   "id": "944b122b-0e46-4e1e-9175-285667e5c769",
   "metadata": {},
   "outputs": [],
   "source": []
  }
 ],
 "metadata": {
  "kernelspec": {
   "display_name": "Python 3 (ipykernel)",
   "language": "python",
   "name": "python3"
  },
  "language_info": {
   "codemirror_mode": {
    "name": "ipython",
    "version": 3
   },
   "file_extension": ".py",
   "mimetype": "text/x-python",
   "name": "python",
   "nbconvert_exporter": "python",
   "pygments_lexer": "ipython3",
   "version": "3.10.12"
  }
 },
 "nbformat": 4,
 "nbformat_minor": 5
}
